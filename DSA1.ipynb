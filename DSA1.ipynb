{
 "cells": [
  {
   "cell_type": "markdown",
   "id": "8ce78d8e-2344-4897-b3fc-ec23d001fab2",
   "metadata": {},
   "source": [
    "1. Remove Duplicates from Sorted Array\r\n",
    "Problem Statement:\r\n",
    "Given a sorted array nums, remove duplicates in-place such that each element appears only once and returns the new length. Do not allocate extra space for another array. Modify the input array in-place with\r\n",
    "𝑂(1)\r\n",
    "O(1) extra memory.\r\n",
    "\r\n",
    "Input:\r\n",
    "\r\n",
    "nums = [0, 0, 1, 1, 1, 2, 2, 3, 3, 4]\r\n",
    "Output:\r\n",
    "5, nums = [0, 1, 2, 3, 4, _, _, _, _, _]"
   ]
  },
  {
   "cell_type": "code",
   "execution_count": null,
   "id": "df53c2de-5556-4b35-a395-ce53f308c3c7",
   "metadata": {},
   "outputs": [],
   "source": []
  },
  {
   "cell_type": "markdown",
   "id": "3173ec22-620a-4cb3-b0f2-62c0841008cd",
   "metadata": {},
   "source": [
    "2. Jump Game\r\n",
    "Problem Statement:\r\n",
    "You are given an array of non-negative integers nums where each element represents your maximum jump length at that position. Determine if you can reach the last index starting from the first index.\r\n",
    "\r\n",
    "Input:\r\n",
    "nums = [2, 3, 1, 1, 4]\r\n",
    "Output:\r\n",
    "\r\n",
    "True\r\n",
    "Explanation:\r\n",
    "You can jump 2 steps to index 1, then 3 steps to the last index."
   ]
  },
  {
   "cell_type": "code",
   "execution_count": null,
   "id": "9bf77040-baa2-4094-b8cb-2740939abf89",
   "metadata": {},
   "outputs": [],
   "source": []
  },
  {
   "cell_type": "markdown",
   "id": "06431bd0-e902-41f3-b2e2-da8f2b04dc8c",
   "metadata": {},
   "source": [
    "3. Candy Crush Simulation\r\n",
    "Problem Statement:\r\n",
    "Simulate the Candy Crush game for a given board of integers. When three or more consecutive integers (horizontally, vertically, or both) are the same, they \"crush\" (set to 0). Repeat until no further crushes are possible. Return the final board state.\r\n",
    "\r\n",
    "Input:\r\n",
    "board = [\r\n",
    "    [1, 2, 3],\r\n",
    "    [4, 5, 5],\r\n",
    "    [1, 5, 5]\r\n",
    "]\r\n",
    "Output:\r\n",
    "\r\n",
    "board = [\r\n",
    "    [1, 2, 3],\r\n",
    "    [4, 0, 0],\r\n",
    "    [1, 0, 0]\r\n",
    "]"
   ]
  },
  {
   "cell_type": "code",
   "execution_count": null,
   "id": "f7c96882-91f4-4d0a-8d57-f14e2dd524a3",
   "metadata": {},
   "outputs": [],
   "source": []
  },
  {
   "cell_type": "markdown",
   "id": "320a343a-cb92-4077-87a1-1e5c1d40c623",
   "metadata": {},
   "source": [
    "4. Implement strStr()\r\n",
    "Problem Statement:\r\n",
    "Implement the function strStr(haystack: str, needle: str) -> int, which finds the first occurrence of the substring needle in the string haystack. Return the index of the first occurrence or -1 if needle is not part of haystack.\r\n",
    "Do not use library functions like index() or find().\r\n",
    "\r\n",
    "Input:\r\n",
    "\r\n",
    "haystack = \"hello\", needle = \"ll\"\r\n",
    "Output:2\r\n",
    "Explanation:\r\n",
    "The substring \"ll\" starts at index 2."
   ]
  },
  {
   "cell_type": "code",
   "execution_count": null,
   "id": "2e2ab96c-b5b9-4adc-97fd-5ed73e6ec67c",
   "metadata": {},
   "outputs": [],
   "source": []
  },
  {
   "cell_type": "markdown",
   "id": "e63436da-5a79-4ec9-8437-9aea24a7619e",
   "metadata": {},
   "source": [
    "5. Reverse String\r\n",
    "Problem Statement:\r\n",
    "Write a function that reverses a string. The input string is given as a list of characters s. You must do this by modifying the input list in place with\r\n",
    "𝑂(1)\r\n",
    "O(1) extra memory.\r\n",
    "\r\n",
    "Input:\r\n",
    "\r\n",
    "s = [\"h\", \"e\", \"l\", \"l\", \"o\"]\r\n",
    "Output:\r\n",
    "\r\n",
    "[\"o\", \"l\", \"l\", \"e\", \"h\"]"
   ]
  },
  {
   "cell_type": "code",
   "execution_count": null,
   "id": "cee8feaf-19b4-4302-9721-ac5a8a9fd50d",
   "metadata": {},
   "outputs": [],
   "source": []
  }
 ],
 "metadata": {
  "kernelspec": {
   "display_name": "Python 3 (ipykernel)",
   "language": "python",
   "name": "python3"
  },
  "language_info": {
   "codemirror_mode": {
    "name": "ipython",
    "version": 3
   },
   "file_extension": ".py",
   "mimetype": "text/x-python",
   "name": "python",
   "nbconvert_exporter": "python",
   "pygments_lexer": "ipython3",
   "version": "3.12.4"
  }
 },
 "nbformat": 4,
 "nbformat_minor": 5
}
