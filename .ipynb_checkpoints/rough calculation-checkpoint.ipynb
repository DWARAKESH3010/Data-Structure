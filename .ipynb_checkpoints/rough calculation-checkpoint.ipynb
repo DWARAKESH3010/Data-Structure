{
 "cells": [
  {
   "cell_type": "markdown",
   "id": "f3edc785-0ec4-4341-adca-997139937ab1",
   "metadata": {},
   "source": [
    "# rough calculation"
   ]
  },
  {
   "cell_type": "code",
   "execution_count": 32,
   "id": "59ad4309-0d99-471b-8e44-c5e062b4f833",
   "metadata": {},
   "outputs": [
    {
     "name": "stdout",
     "output_type": "stream",
     "text": [
      "26\n",
      "24.666666666666668\n",
      "74\n"
     ]
    }
   ],
   "source": [
    "grocery_list = [[\"apple\", 23, 2], [\"banana\", 26, 3], [\"orange\", 25, 4]]\n",
    "\n",
    "high = 0\n",
    "for i in grocery_list:\n",
    "    if high < i[1]:\n",
    "        high = i[1]\n",
    "print(high)\n",
    "\n",
    "total_middle_number = 0\n",
    "for i in grocery_list:\n",
    "    total_middle_number += i[1]  \n",
    "print(total_middle_number)\n",
    "\n",
    "avg= 0\n",
    "for i in grocery_list:\n",
    "    avg = avg + i[1]\n",
    "print(avg/len(a))\n",
    "\n"
   ]
  },
  {
   "cell_type": "code",
   "execution_count": 2,
   "id": "f0ef7c35-0d75-4c9e-b8cc-75be4c183685",
   "metadata": {},
   "outputs": [
    {
     "data": {
      "text/plain": [
       "12"
      ]
     },
     "execution_count": 2,
     "metadata": {},
     "output_type": "execute_result"
    }
   ],
   "source": [
    "y = 10\n",
    "y = y+2\n",
    "x = y\n",
    "x"
   ]
  },
  {
   "cell_type": "code",
   "execution_count": 10,
   "id": "1bf3a8a9-bd2f-480e-a9de-da11ab936887",
   "metadata": {},
   "outputs": [
    {
     "name": "stdout",
     "output_type": "stream",
     "text": [
      "(\n",
      ")\n",
      "[\n",
      "]\n",
      "{\n",
      "}\n"
     ]
    }
   ],
   "source": [
    "q = \"()[]{}\"\n",
    "a = {'(': ')', '{': '}', '[': ']'}\n",
    "\n",
    "for i,j in zip(q,a):\n",
    "    if(i)\n",
    "    "
   ]
  },
  {
   "cell_type": "code",
   "execution_count": 13,
   "id": "73adf324-a90f-45ff-8157-e7d86a41a8ad",
   "metadata": {},
   "outputs": [
    {
     "name": "stdout",
     "output_type": "stream",
     "text": [
      "True 1\n",
      "True 2\n",
      "True 3\n",
      "True 4\n",
      "True 5\n",
      "True 6\n",
      "this is rectenly add 7\n"
     ]
    }
   ],
   "source": [
    "a = [1,2,3,4,5,6,7]\n",
    "b = [1,2,3,4,5,6]\n",
    "for i in a:\n",
    "    if i in b:\n",
    "        print(True,i)\n",
    "    else:\n",
    "        print(\"this is rectenly add\",i)"
   ]
  },
  {
   "cell_type": "code",
   "execution_count": 1,
   "id": "f35ef5ef-4d3b-4de8-8521-e068e9a3f5fc",
   "metadata": {},
   "outputs": [
    {
     "data": {
      "text/plain": [
       "[-inf, -inf, -inf, -inf, -inf]"
      ]
     },
     "execution_count": 1,
     "metadata": {},
     "output_type": "execute_result"
    }
   ],
   "source": [
    "[float('-inf')] * 5"
   ]
  },
  {
   "cell_type": "code",
   "execution_count": 10,
   "id": "f470c2b5-6baf-4c5f-a6f1-d4d34574b7a2",
   "metadata": {},
   "outputs": [
    {
     "name": "stdout",
     "output_type": "stream",
     "text": [
      "1 2\n",
      "5 6\n",
      "8 9\n"
     ]
    }
   ],
   "source": [
    "a = [1,5,8,2,4,2,7]\n",
    "temp = 0\n",
    "value = 0\n",
    "for i in range(len(a)):\n",
    "    val = a[i] + a[i] + 1\n",
    "    if val > temp and val > value:\n",
    "        value = val\n",
    "        print(a[i] , a[i] + 1)\n",
    "        \n",
    "    "
   ]
  },
  {
   "cell_type": "code",
   "execution_count": 21,
   "id": "0bf9cfd9-1d4c-420d-8712-776021977e65",
   "metadata": {},
   "outputs": [
    {
     "name": "stdout",
     "output_type": "stream",
     "text": [
      "15\n",
      "(8, 7)\n"
     ]
    }
   ],
   "source": [
    "a = [1, 5, 8, 2, 4, 2, 7]\n",
    "\n",
    "m = a[0] + a[1]\n",
    "p = (0,0)\n",
    "\n",
    "for i in range(lecn(a)):\n",
    "    for j in range(i + 1, len(a)):\n",
    "        c = a[i] + a[j]\n",
    "        if c > m:\n",
    "            m = c\n",
    "            p = (a[i], a[j])\n",
    "\n",
    "print(m)\n",
    "print(p)\n"
   ]
  },
  {
   "cell_type": "code",
   "execution_count": 33,
   "id": "f0dcbc68-fe34-48af-ad8b-a9258b1d2159",
   "metadata": {},
   "outputs": [
    {
     "name": "stdout",
     "output_type": "stream",
     "text": [
      "(15, (8, 7))\n",
      "(13, (5, 8))\n",
      "(12, (8, 4))\n",
      "(12, (5, 7))\n",
      "(11, (4, 7))\n"
     ]
    }
   ],
   "source": [
    "a = [1, 5, 8, 2, 4, 2, 7]\n",
    "\n",
    "sums_list = []\n",
    "\n",
    "for i in range(len(a)):\n",
    "    for j in range(i + 1, len(a)):\n",
    "        sums_list.append((a[i] + a[j], (a[i], a[j])))\n",
    "\n",
    "sums_list.sort(reverse=True)\n",
    "\n",
    "largest_5 = sums_list[:5]\n",
    "for i in largest_5:\n",
    "    print(i)\n"
   ]
  },
  {
   "cell_type": "code",
   "execution_count": 54,
   "id": "1f1e7f3c-23e7-4313-aba2-1bc952e9ca4d",
   "metadata": {},
   "outputs": [
    {
     "data": {
      "text/plain": [
       "5"
      ]
     },
     "execution_count": 54,
     "metadata": {},
     "output_type": "execute_result"
    }
   ],
   "source": [
    "a = [1, 3, 2, 5, 4]\n",
    "def fun(a):\n",
    "    temp = 0\n",
    "    for i in range(len(a) - 1):\n",
    "        if a[i] > a[i+1]:\n",
    "            temp = a[i]\n",
    "        else:\n",
    "            temp = a[i] + 1\n",
    "    return temp\n",
    "    a.remove(temp)\n",
    "li = []\n",
    "for i in a:\n",
    "    li.append(fun(a))\n",
    "sum(li)"
   ]
  },
  {
   "cell_type": "code",
   "execution_count": null,
   "id": "a21354f8-23c8-4883-9d98-bdb8a656369b",
   "metadata": {},
   "outputs": [],
   "source": [
    "\n",
    "largest = [0, 0, 0, 0, 0]\n",
    "\n",
    "for num in a:\n",
    "    if num > largest[4]:  # Compare with the smallest slot\n",
    "        largest[4] = num\n",
    "    elif num > largest[3]:  \n",
    "        largest[4] = largest[3]\n",
    "        largest[3] = num\n",
    "    elif num > largest[2]:  \n",
    "        largest[4] = largest[3]\n",
    "        largest[3] = largest[2]\n",
    "        largest[2] = num\n",
    "    elif num > largest[1]:  \n",
    "        largest[4] = largest[3]\n",
    "        largest[3] = largest[2]\n",
    "        largest[2] = num\n",
    "    elif num > largest[0]:  \n",
    "        largest[4] = largest[3]\n",
    "        largest[3] = largest[2]\n",
    "        largest[2] = largest[1]\n",
    "        largest[1] = largest[0]\n",
    "        largest[0] = num\n",
    "\n",
    "result = sum(largest)\n",
    "\n",
    "print(\"The five largest numbers are:\", largest)\n",
    "print(\"The sum of the five largest numbers is:\", result)\n"
   ]
  },
  {
   "cell_type": "code",
   "execution_count": null,
   "id": "1f86985d-3170-4e6b-bd99-3dc432b77520",
   "metadata": {},
   "outputs": [],
   "source": []
  }
 ],
 "metadata": {
  "kernelspec": {
   "display_name": "Python 3 (ipykernel)",
   "language": "python",
   "name": "python3"
  },
  "language_info": {
   "codemirror_mode": {
    "name": "ipython",
    "version": 3
   },
   "file_extension": ".py",
   "mimetype": "text/x-python",
   "name": "python",
   "nbconvert_exporter": "python",
   "pygments_lexer": "ipython3",
   "version": "3.12.4"
  }
 },
 "nbformat": 4,
 "nbformat_minor": 5
}
