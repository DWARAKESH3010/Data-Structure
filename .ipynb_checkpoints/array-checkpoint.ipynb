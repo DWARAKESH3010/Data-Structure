{
 "cells": [
  {
   "cell_type": "markdown",
   "id": "fdfeef05-f65d-4229-a1c4-861f5722f995",
   "metadata": {},
   "source": [
    "# array "
   ]
  },
  {
   "cell_type": "code",
   "execution_count": 9,
   "id": "8527b1e3-91ef-4a0d-9dfe-90c6ee1ad192",
   "metadata": {},
   "outputs": [],
   "source": [
    "import array as ar      # we can use this way or below give way to instalze the array"
   ]
  },
  {
   "cell_type": "code",
   "execution_count": 4,
   "id": "7260ffde-4134-47cf-a9be-b2ab93b65241",
   "metadata": {},
   "outputs": [
    {
     "data": {
      "text/plain": [
       "array('i', [1, 2, 3, 4, 5])"
      ]
     },
     "execution_count": 4,
     "metadata": {},
     "output_type": "execute_result"
    }
   ],
   "source": [
    "arr = ar.array(\"i\",[1,2,3,4,5])\n",
    "arr"
   ]
  },
  {
   "cell_type": "code",
   "execution_count": 21,
   "id": "eca2bbd5-e014-46af-a754-32021cad670b",
   "metadata": {},
   "outputs": [],
   "source": [
    "from array import * "
   ]
  },
  {
   "cell_type": "code",
   "execution_count": 22,
   "id": "d2f12913-71cc-49c6-977f-392c307a3845",
   "metadata": {},
   "outputs": [
    {
     "data": {
      "text/plain": [
       "array('i', [1, 2, 3, 4, 4, 5, 6])"
      ]
     },
     "execution_count": 22,
     "metadata": {},
     "output_type": "execute_result"
    }
   ],
   "source": [
    "arr = array(\"i\",[1,2,3,4,4,5,6])\n",
    "arr"
   ]
  },
  {
   "cell_type": "code",
   "execution_count": 23,
   "id": "c6f9dd03-b781-4b3f-a507-f75a6996f635",
   "metadata": {},
   "outputs": [
    {
     "data": {
      "text/plain": [
       "1"
      ]
     },
     "execution_count": 23,
     "metadata": {},
     "output_type": "execute_result"
    }
   ],
   "source": [
    "arr[0]  # accessing of the elenement in the array"
   ]
  },
  {
   "cell_type": "code",
   "execution_count": 24,
   "id": "47dd6eec-b1ff-4a7c-8757-5f0af8c6b2ba",
   "metadata": {},
   "outputs": [
    {
     "data": {
      "text/plain": [
       "array('i', [12, 1, 2, 3, 4, 4, 5, 6])"
      ]
     },
     "execution_count": 24,
     "metadata": {},
     "output_type": "execute_result"
    }
   ],
   "source": [
    "arr.insert(0,12)         #inserting \n",
    "arr"
   ]
  },
  {
   "cell_type": "code",
   "execution_count": 25,
   "id": "9c312e68-e23f-4257-955f-17419ae8bae3",
   "metadata": {},
   "outputs": [
    {
     "data": {
      "text/plain": [
       "array('i', [12, 1, 2, 3, 4, 4, 5])"
      ]
     },
     "execution_count": 25,
     "metadata": {},
     "output_type": "execute_result"
    }
   ],
   "source": [
    "arr.pop(-1)        # deleteing the array element\n",
    "arr"
   ]
  },
  {
   "cell_type": "code",
   "execution_count": 30,
   "id": "501ce3f0-75f8-4a6e-97f8-e2919265a6a3",
   "metadata": {},
   "outputs": [
    {
     "name": "stdout",
     "output_type": "stream",
     "text": [
      "0\n"
     ]
    }
   ],
   "source": [
    "for i in range(len(arr)):        # searching\n",
    "    if arr[i] == 12:\n",
    "        print(i)\n",
    "        break"
   ]
  },
  {
   "cell_type": "code",
   "execution_count": null,
   "id": "053307ba-ad17-4a29-b91e-88fdf056f20e",
   "metadata": {},
   "outputs": [],
   "source": []
  }
 ],
 "metadata": {
  "kernelspec": {
   "display_name": "Python 3 (ipykernel)",
   "language": "python",
   "name": "python3"
  },
  "language_info": {
   "codemirror_mode": {
    "name": "ipython",
    "version": 3
   },
   "file_extension": ".py",
   "mimetype": "text/x-python",
   "name": "python",
   "nbconvert_exporter": "python",
   "pygments_lexer": "ipython3",
   "version": "3.11.7"
  }
 },
 "nbformat": 4,
 "nbformat_minor": 5
}
