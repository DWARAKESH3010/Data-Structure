{
 "cells": [
  {
   "cell_type": "markdown",
   "id": "fdfeef05-f65d-4229-a1c4-861f5722f995",
   "metadata": {},
   "source": [
    "# array "
   ]
  },
  {
   "cell_type": "code",
   "execution_count": null,
   "id": "8527b1e3-91ef-4a0d-9dfe-90c6ee1ad192",
   "metadata": {},
   "outputs": [],
   "source": []
  }
 ],
 "metadata": {
  "kernelspec": {
   "display_name": "Python 3 (ipykernel)",
   "language": "python",
   "name": "python3"
  },
  "language_info": {
   "codemirror_mode": {
    "name": "ipython",
    "version": 3
   },
   "file_extension": ".py",
   "mimetype": "text/x-python",
   "name": "python",
   "nbconvert_exporter": "python",
   "pygments_lexer": "ipython3",
   "version": "3.11.7"
  }
 },
 "nbformat": 4,
 "nbformat_minor": 5
}
