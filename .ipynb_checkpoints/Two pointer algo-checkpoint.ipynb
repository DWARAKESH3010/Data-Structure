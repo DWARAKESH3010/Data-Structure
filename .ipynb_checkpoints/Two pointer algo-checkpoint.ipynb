{
 "cells": [
  {
   "cell_type": "markdown",
   "id": "99d2eb4d-439a-4a4f-8f49-c84145e23eb5",
   "metadata": {},
   "source": [
    "# two pointer algo"
   ]
  },
  {
   "cell_type": "code",
   "execution_count": null,
   "id": "b55a1dc0-5c3a-4a9b-94b9-5f323d3d13e7",
   "metadata": {},
   "outputs": [],
   "source": [
    "arr = [1,2,3,4,5,6,7]\n",
    "tar = 10\n",
    "i = 0\n",
    "while True:\n",
    "    l = arr[0]\n",
    "    r = arr[-1]\n",
    "    if (l + r) == tar:\n",
    "        print(\"yeahhh\")\n",
    "        break\n",
    "    else:\n",
    "        l == l + 1"
   ]
  },
  {
   "cell_type": "code",
   "execution_count": 3,
   "id": "e094e490-db60-4b52-a896-6d2730247fd3",
   "metadata": {},
   "outputs": [
    {
     "name": "stdout",
     "output_type": "stream",
     "text": [
      "2\n"
     ]
    }
   ],
   "source": [
    "arr = [1,2,3,4,5,6,7]\n",
    "l = arr[0]\n",
    "print( l+1)"
   ]
  },
  {
   "cell_type": "code",
   "execution_count": null,
   "id": "4258b8fb-f07a-4f5b-a6cf-c9f5de1d5fa5",
   "metadata": {},
   "outputs": [],
   "source": []
  },
  {
   "cell_type": "code",
   "execution_count": null,
   "id": "d48560d1-9742-4680-937c-136fb8cac4ef",
   "metadata": {},
   "outputs": [],
   "source": []
  },
  {
   "cell_type": "code",
   "execution_count": null,
   "id": "7699a2ba-af5c-4443-a52f-1cb2523a4874",
   "metadata": {},
   "outputs": [],
   "source": []
  },
  {
   "cell_type": "code",
   "execution_count": null,
   "id": "5c31667f-b9a3-466f-853e-6b8adb082eb7",
   "metadata": {},
   "outputs": [],
   "source": []
  },
  {
   "cell_type": "code",
   "execution_count": null,
   "id": "85cd3e56-2516-4aba-abe4-ca63e45c196d",
   "metadata": {},
   "outputs": [],
   "source": []
  },
  {
   "cell_type": "code",
   "execution_count": null,
   "id": "030257cf-3a8e-4b8a-87fb-48f8ae7bcfd3",
   "metadata": {},
   "outputs": [],
   "source": []
  }
 ],
 "metadata": {
  "kernelspec": {
   "display_name": "Python 3 (ipykernel)",
   "language": "python",
   "name": "python3"
  },
  "language_info": {
   "codemirror_mode": {
    "name": "ipython",
    "version": 3
   },
   "file_extension": ".py",
   "mimetype": "text/x-python",
   "name": "python",
   "nbconvert_exporter": "python",
   "pygments_lexer": "ipython3",
   "version": "3.11.7"
  }
 },
 "nbformat": 4,
 "nbformat_minor": 5
}
