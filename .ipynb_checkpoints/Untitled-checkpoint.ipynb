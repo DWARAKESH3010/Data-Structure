{
 "cells": [
  {
   "cell_type": "markdown",
   "id": "5bfd6d4c-6a26-42a9-9333-9d0823538ac4",
   "metadata": {},
   "source": [
    "# Bubble sort"
   ]
  },
  {
   "cell_type": "code",
   "execution_count": null,
   "id": "d16a5e46-0ad8-481f-b133-8646a21009f6",
   "metadata": {},
   "outputs": [],
   "source": [
    "# for loop\n",
    "arr = [1,5,5,2,7,8,10]\n",
    "for i in range (0,len(arr)-1):\n",
    "    for j in range(len(arr)-1):\n",
    "        if(arr[j] > arr[j + 1]):\n",
    "            arr[j],arr[j+1] = arr[j+1],arr[j]\n",
    "\n",
    "arr\n",
    "        "
   ]
  },
  {
   "cell_type": "code",
   "execution_count": null,
   "id": "b0d7eb5e-d005-4d13-b4db-5e2b33fdd330",
   "metadata": {},
   "outputs": [],
   "source": [
    "# while loop\n",
    "\n",
    "while True:\n",
    "    for i in range(len(arr)-1):\n",
    "    a = True\n",
    "        if(arr[j] > arr[j + 1]):\n",
    "            arr[j],arr[j+1] = arr[j+1],arr[j]\n",
    "            a = False\n",
    "        if(a == True):\n",
    "            break\n",
    "        elif(a == False):\n",
    "            contiune\n",
    "arr"
   ]
  },
  {
   "cell_type": "code",
   "execution_count": null,
   "id": "d80c1969-bbe8-4b2a-afb1-c70328927b0c",
   "metadata": {},
   "outputs": [],
   "source": []
  }
 ],
 "metadata": {
  "kernelspec": {
   "display_name": "Python 3 (ipykernel)",
   "language": "python",
   "name": "python3"
  },
  "language_info": {
   "codemirror_mode": {
    "name": "ipython",
    "version": 3
   },
   "file_extension": ".py",
   "mimetype": "text/x-python",
   "name": "python",
   "nbconvert_exporter": "python",
   "pygments_lexer": "ipython3",
   "version": "3.11.7"
  }
 },
 "nbformat": 4,
 "nbformat_minor": 5
}
