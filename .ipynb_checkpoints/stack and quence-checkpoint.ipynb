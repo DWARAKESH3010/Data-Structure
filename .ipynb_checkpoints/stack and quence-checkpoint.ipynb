{
 "cells": [
  {
   "cell_type": "markdown",
   "id": "b2536e7d-1dbc-4e40-b940-9ebddfc76f3b",
   "metadata": {},
   "source": [
    "# stack"
   ]
  },
  {
   "cell_type": "code",
   "execution_count": 25,
   "id": "60e03998-fb15-437b-8b98-0f3c02057b2e",
   "metadata": {},
   "outputs": [
    {
     "data": {
      "text/plain": [
       "['h', 'e', 'l', 'l', 'o']"
      ]
     },
     "execution_count": 25,
     "metadata": {},
     "output_type": "execute_result"
    }
   ],
   "source": [
    "# reversing the name\n",
    "\n",
    "a = \"hello\"\n",
    "b = [\" \"] * len(a)\n",
    "\n",
    "val = 0\n",
    "for i in a:\n",
    "    b[val] = i\n",
    "    val = val + 1\n",
    "b"
   ]
  },
  {
   "cell_type": "code",
   "execution_count": 12,
   "id": "73019841-9e6d-428f-8008-94eaec7ba11d",
   "metadata": {},
   "outputs": [
    {
     "data": {
      "text/plain": [
       "[]"
      ]
     },
     "execution_count": 12,
     "metadata": {},
     "output_type": "execute_result"
    }
   ],
   "source": [
    "b*2\n",
    "\n",
    "b"
   ]
  },
  {
   "cell_type": "code",
   "execution_count": 26,
   "id": "987eafb6-3389-4ab3-89f9-7d6253a24864",
   "metadata": {},
   "outputs": [
    {
     "data": {
      "text/plain": [
       "deque([5, 1, 2, 3, 4])"
      ]
     },
     "execution_count": 26,
     "metadata": {},
     "output_type": "execute_result"
    }
   ],
   "source": [
    "from collections import deque\n",
    "stack = deque([1,2,3,4])\n",
    "stack.appendleft(5)\n",
    "stack"
   ]
  },
  {
   "cell_type": "code",
   "execution_count": 27,
   "id": "dfd043f8-2a98-41c6-9aeb-d85c5be83b05",
   "metadata": {},
   "outputs": [
    {
     "data": {
      "text/plain": [
       "deque([2, 3, 4])"
      ]
     },
     "execution_count": 27,
     "metadata": {},
     "output_type": "execute_result"
    }
   ],
   "source": [
    "from collections import deque\n",
    "stack = deque([1,2,3,4])\n",
    "stack.popleft()\n",
    "stack"
   ]
  },
  {
   "cell_type": "markdown",
   "id": "e376f0ab-a70b-4a08-a99d-fe1667bcaa99",
   "metadata": {},
   "source": [
    "# parathnsis"
   ]
  },
  {
   "cell_type": "code",
   "execution_count": 44,
   "id": "6f42a01b-d4ac-4d42-a0af-9d597994be14",
   "metadata": {},
   "outputs": [
    {
     "name": "stdout",
     "output_type": "stream",
     "text": [
      "True\n"
     ]
    }
   ],
   "source": [
    "d = {\"(\":\")\",\"[\":\"]\",\"{\":\"}\"}\n",
    "a = \"()[]\"\n",
    "st = []\n",
    "for i in a:\n",
    "    if i in (d.keys()):\n",
    "        st.append(i)\n",
    "    else:\n",
    "        if st == []:\n",
    "            print(False)\n",
    "        else:\n",
    "            if(d[st[-1]] == i):\n",
    "                st.pop()\n",
    "            else:\n",
    "                print(False)\n",
    "\n",
    "if st == []:\n",
    "    print(True)\n",
    "else:\n",
    "    prin(False)"
   ]
  },
  {
   "cell_type": "code",
   "execution_count": 37,
   "id": "f7447d24-586a-4a59-b11c-8597b040d3b2",
   "metadata": {},
   "outputs": [
    {
     "data": {
      "text/plain": [
       "')'"
      ]
     },
     "execution_count": 37,
     "metadata": {},
     "output_type": "execute_result"
    }
   ],
   "source": [
    "d[st[-1]]"
   ]
  },
  {
   "cell_type": "code",
   "execution_count": null,
   "id": "1b6bbdd5-d185-4bd3-a56d-fbaf421b4404",
   "metadata": {},
   "outputs": [],
   "source": []
  }
 ],
 "metadata": {
  "kernelspec": {
   "display_name": "Python 3 (ipykernel)",
   "language": "python",
   "name": "python3"
  },
  "language_info": {
   "codemirror_mode": {
    "name": "ipython",
    "version": 3
   },
   "file_extension": ".py",
   "mimetype": "text/x-python",
   "name": "python",
   "nbconvert_exporter": "python",
   "pygments_lexer": "ipython3",
   "version": "3.11.7"
  }
 },
 "nbformat": 4,
 "nbformat_minor": 5
}
