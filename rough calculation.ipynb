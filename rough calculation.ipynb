{
 "cells": [
  {
   "cell_type": "markdown",
   "id": "f3edc785-0ec4-4341-adca-997139937ab1",
   "metadata": {},
   "source": [
    "# rough calculation"
   ]
  },
  {
   "cell_type": "code",
   "execution_count": 32,
   "id": "59ad4309-0d99-471b-8e44-c5e062b4f833",
   "metadata": {},
   "outputs": [
    {
     "name": "stdout",
     "output_type": "stream",
     "text": [
      "26\n",
      "24.666666666666668\n",
      "74\n"
     ]
    }
   ],
   "source": [
    "grocery_list = [[\"apple\", 23, 2], [\"banana\", 26, 3], [\"orange\", 25, 4]]\n",
    "\n",
    "high = 0\n",
    "for i in grocery_list:\n",
    "    if high < i[1]:\n",
    "        high = i[1]\n",
    "print(high)\n",
    "\n",
    "total_middle_number = 0\n",
    "for i in grocery_list:\n",
    "    total_middle_number += i[1]  \n",
    "print(total_middle_number)\n",
    "\n",
    "avg= 0\n",
    "for i in grocery_list:\n",
    "    avg = avg + i[1]\n",
    "print(avg/len(a))\n",
    "\n"
   ]
  },
  {
   "cell_type": "code",
   "execution_count": 2,
   "id": "f0ef7c35-0d75-4c9e-b8cc-75be4c183685",
   "metadata": {},
   "outputs": [
    {
     "data": {
      "text/plain": [
       "12"
      ]
     },
     "execution_count": 2,
     "metadata": {},
     "output_type": "execute_result"
    }
   ],
   "source": [
    "y = 10\n",
    "y = y+2\n",
    "x = y\n",
    "x"
   ]
  },
  {
   "cell_type": "code",
   "execution_count": 10,
   "id": "1bf3a8a9-bd2f-480e-a9de-da11ab936887",
   "metadata": {},
   "outputs": [
    {
     "name": "stdout",
     "output_type": "stream",
     "text": [
      "(\n",
      ")\n",
      "[\n",
      "]\n",
      "{\n",
      "}\n"
     ]
    }
   ],
   "source": [
    "q = \"()[]{}\"\n",
    "a = {'(': ')', '{': '}', '[': ']'}\n",
    "\n",
    "for i,j in zip(q,a):\n",
    "    if(i)\n",
    "    "
   ]
  },
  {
   "cell_type": "code",
   "execution_count": 13,
   "id": "73adf324-a90f-45ff-8157-e7d86a41a8ad",
   "metadata": {},
   "outputs": [
    {
     "name": "stdout",
     "output_type": "stream",
     "text": [
      "True 1\n",
      "True 2\n",
      "True 3\n",
      "True 4\n",
      "True 5\n",
      "True 6\n",
      "this is rectenly add 7\n"
     ]
    }
   ],
   "source": [
    "a = [1,2,3,4,5,6,7]\n",
    "b = [1,2,3,4,5,6]\n",
    "for i in a:\n",
    "    if i in b:\n",
    "        print(True,i)\n",
    "    else:\n",
    "        print(\"this is rectenly add\",i)"
   ]
  },
  {
   "cell_type": "code",
   "execution_count": null,
   "id": "f35ef5ef-4d3b-4de8-8521-e068e9a3f5fc",
   "metadata": {},
   "outputs": [],
   "source": []
  }
 ],
 "metadata": {
  "kernelspec": {
   "display_name": "Python 3 (ipykernel)",
   "language": "python",
   "name": "python3"
  },
  "language_info": {
   "codemirror_mode": {
    "name": "ipython",
    "version": 3
   },
   "file_extension": ".py",
   "mimetype": "text/x-python",
   "name": "python",
   "nbconvert_exporter": "python",
   "pygments_lexer": "ipython3",
   "version": "3.11.7"
  }
 },
 "nbformat": 4,
 "nbformat_minor": 5
}
