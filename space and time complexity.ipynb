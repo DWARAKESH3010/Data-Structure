{
 "cells": [
  {
   "cell_type": "markdown",
   "id": "3142acb0-8896-4f74-88b8-9763e839af90",
   "metadata": {},
   "source": [
    "# o(logn)"
   ]
  },
  {
   "cell_type": "code",
   "execution_count": 7,
   "id": "ba56253f-cc3d-4811-aa3d-c45bb175821b",
   "metadata": {},
   "outputs": [
    {
     "name": "stdout",
     "output_type": "stream",
     "text": [
      "-1\n"
     ]
    }
   ],
   "source": [
    "li = [-1,0,1,2,8,9]\n",
    "l = 0\n",
    "r = len(li)-1\n",
    "target = 10\n",
    "while l <= r:\n",
    "    m = (l + r)//2\n",
    "    if li[m] == target:\n",
    "        print(m) \n",
    "        break\n",
    "    elif li[m] < target:\n",
    "        l = m + 1\n",
    "    elif li[m] > target:\n",
    "        r = m - 1\n",
    "else:\n",
    "    print(-1)"
   ]
  },
  {
   "cell_type": "code",
   "execution_count": null,
   "id": "083ed225-2f6c-426f-9a11-4c5ba79777db",
   "metadata": {},
   "outputs": [],
   "source": []
  }
 ],
 "metadata": {
  "kernelspec": {
   "display_name": "Python 3 (ipykernel)",
   "language": "python",
   "name": "python3"
  },
  "language_info": {
   "codemirror_mode": {
    "name": "ipython",
    "version": 3
   },
   "file_extension": ".py",
   "mimetype": "text/x-python",
   "name": "python",
   "nbconvert_exporter": "python",
   "pygments_lexer": "ipython3",
   "version": "3.11.7"
  }
 },
 "nbformat": 4,
 "nbformat_minor": 5
}
