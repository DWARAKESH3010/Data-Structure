{
 "cells": [
  {
   "cell_type": "markdown",
   "id": "3142acb0-8896-4f74-88b8-9763e839af90",
   "metadata": {},
   "source": [
    "# o(logn)"
   ]
  },
  {
   "cell_type": "code",
   "execution_count": 13,
   "id": "ba56253f-cc3d-4811-aa3d-c45bb175821b",
   "metadata": {},
   "outputs": [
    {
     "name": "stdout",
     "output_type": "stream",
     "text": [
      "1\n",
      "--- 0.0 seconds ---\n"
     ]
    }
   ],
   "source": [
    "# It is used for only sort function\n",
    "li = [-1,0,1,2,8,9]\n",
    "l = 0\n",
    "r = len(li)-1\n",
    "target = 0\n",
    "while l <= r:\n",
    "    m = (l + r)//2\n",
    "    if li[m] == target:\n",
    "        print(m) \n",
    "        break\n",
    "    elif li[m] < target:\n",
    "        l = m + 1\n",
    "    elif li[m] > target:\n",
    "        r = m - 1\n",
    "else:\n",
    "    print(-1)\n",
    "\n",
    "import time\n",
    "start_time = time.time()\n",
    "print(\"--- %s seconds ---\" % (time.time() - start_time))"
   ]
  },
  {
   "cell_type": "code",
   "execution_count": 14,
   "id": "4a10ed6e",
   "metadata": {},
   "outputs": [
    {
     "name": "stdout",
     "output_type": "stream",
     "text": [
      "1\n",
      "--- 0.0 seconds ---\n"
     ]
    }
   ],
   "source": [
    "li = [-1,0,1,2,8,9]\n",
    "target = 0\n",
    "i = 0\n",
    "while i < len(li):\n",
    "    if  target == li[i]:\n",
    "        print(i)\n",
    "        break\n",
    "    i = i + 1\n",
    "\n",
    "import time\n",
    "start_time = time.time()\n",
    "\n",
    "print(\"--- %s seconds ---\" % (time.time() - start_time))"
   ]
  },
  {
   "cell_type": "markdown",
   "id": "d6c6c8aa-dbe2-4a1d-936a-24f2e74049d9",
   "metadata": {},
   "source": [
    "# o(log n) in space complexity"
   ]
  },
  {
   "cell_type": "code",
   "execution_count": 1,
   "id": "7923002d-5c05-4082-8b72-d93687d3f53d",
   "metadata": {},
   "outputs": [
    {
     "data": {
      "text/plain": [
       "120"
      ]
     },
     "execution_count": 1,
     "metadata": {},
     "output_type": "execute_result"
    }
   ],
   "source": [
    "#recursion\n",
    "def fact(n):\n",
    "    if n == 1:\n",
    "        return 1\n",
    "    return n *(fact(n-1))  # 5 * 4! like that\n",
    "fact(5)"
   ]
  },
  {
   "cell_type": "code",
   "execution_count": 15,
   "id": "3a899c21-6514-4bbc-a30b-201c04c92260",
   "metadata": {},
   "outputs": [
    {
     "data": {
      "text/plain": [
       "3"
      ]
     },
     "execution_count": 15,
     "metadata": {},
     "output_type": "execute_result"
    }
   ],
   "source": [
    "#another recursion probelm\n",
    "def f(n):\n",
    "    if n == 1:\n",
    "        return 1\n",
    "    elif(n == 0):\n",
    "        return 0\n",
    "    return f(n - 1) + f(n - 2)\n",
    "f(4)\n"
   ]
  },
  {
   "cell_type": "code",
   "execution_count": 28,
   "id": "26e7ed23-24e6-48e4-aa18-bee23a53d88f",
   "metadata": {},
   "outputs": [
    {
     "data": {
      "text/plain": [
       "15"
      ]
     },
     "execution_count": 28,
     "metadata": {},
     "output_type": "execute_result"
    }
   ],
   "source": [
    "def na(n):\n",
    "    if n < 0:\n",
    "        return 0\n",
    "    return n + na(n - 1)\n",
    "na(5)"
   ]
  },
  {
   "cell_type": "code",
   "execution_count": 46,
   "id": "88eaf3f3-2377-43d5-9d96-074fcfb17afd",
   "metadata": {},
   "outputs": [
    {
     "name": "stdout",
     "output_type": "stream",
     "text": [
      "10\n",
      "9\n",
      "8\n",
      "7\n",
      "6\n",
      "5\n",
      "4\n",
      "3\n",
      "2\n",
      "1\n"
     ]
    },
    {
     "data": {
      "text/plain": [
       "0"
      ]
     },
     "execution_count": 46,
     "metadata": {},
     "output_type": "execute_result"
    }
   ],
   "source": [
    "def rev(n):\n",
    "    if (n < 1):  \n",
    "        return 0\n",
    "    print(n)\n",
    "    return rev(n - 1)\n",
    "    \n",
    "rev(10)"
   ]
  },
  {
   "cell_type": "code",
   "execution_count": 51,
   "id": "8b8d1d3b-d215-4001-a5b7-90e5ca28e3f0",
   "metadata": {},
   "outputs": [
    {
     "data": {
      "text/plain": [
       "9"
      ]
     },
     "execution_count": 51,
     "metadata": {},
     "output_type": "execute_result"
    }
   ],
   "source": [
    "def pow(n):\n",
    "    if n < 0:\n",
    "        return 0\n",
    "    return n ** (n-1)\n",
    "pow(3)"
   ]
  },
  {
   "cell_type": "code",
   "execution_count": 58,
   "id": "873680ef-a93b-4882-96d0-15ad025cd838",
   "metadata": {},
   "outputs": [
    {
     "data": {
      "text/plain": [
       "8"
      ]
     },
     "execution_count": 58,
     "metadata": {},
     "output_type": "execute_result"
    }
   ],
   "source": [
    "def fib(n):\n",
    "    if n == 0:\n",
    "        return 0\n",
    "    elif n == 1:\n",
    "        return 1\n",
    "    return fib(n - 1) + fib(n - 2)\n",
    "fib(5)"
   ]
  },
  {
   "cell_type": "code",
   "execution_count": 75,
   "id": "b8f9ba0f-188c-4867-b60d-91de27e232cf",
   "metadata": {},
   "outputs": [
    {
     "data": {
      "text/plain": [
       "0"
      ]
     },
     "execution_count": 75,
     "metadata": {},
     "output_type": "execute_result"
    }
   ],
   "source": [
    "def digit(n):\n",
    "    if(n == 0):\n",
    "        return 0\n",
    "    return n % 10 * digit(n//10)\n",
    "digit(122)"
   ]
  },
  {
   "cell_type": "code",
   "execution_count": 70,
   "id": "ea5f4c58-d4b3-43ca-9e9f-55d5c6cfaca0",
   "metadata": {},
   "outputs": [
    {
     "data": {
      "text/plain": [
       "122"
      ]
     },
     "execution_count": 70,
     "metadata": {},
     "output_type": "execute_result"
    }
   ],
   "source": [
    "n = \"dwarawd\"\n",
    "def palidrome(n):\n",
    "    "
   ]
  },
  {
   "cell_type": "code",
   "execution_count": 6,
   "id": "198681db-9c67-4ae2-b8b4-5c7c7e4350b6",
   "metadata": {},
   "outputs": [
    {
     "name": "stdout",
     "output_type": "stream",
     "text": [
      "paldrome\n"
     ]
    }
   ],
   "source": [
    "n = \"dwarawd\"\n",
    "val = n[::-1]\n",
    "if(n == val):\n",
    "    print(\"paldrome\")\n",
    "else:\n",
    "    print(\"no\")"
   ]
  },
  {
   "cell_type": "code",
   "execution_count": null,
   "id": "1355588a-8ec2-40e6-a48a-509c301b7bba",
   "metadata": {},
   "outputs": [],
   "source": []
  }
 ],
 "metadata": {
  "kernelspec": {
   "display_name": "Python 3 (ipykernel)",
   "language": "python",
   "name": "python3"
  },
  "language_info": {
   "codemirror_mode": {
    "name": "ipython",
    "version": 3
   },
   "file_extension": ".py",
   "mimetype": "text/x-python",
   "name": "python",
   "nbconvert_exporter": "python",
   "pygments_lexer": "ipython3",
   "version": "3.11.7"
  }
 },
 "nbformat": 4,
 "nbformat_minor": 5
}
