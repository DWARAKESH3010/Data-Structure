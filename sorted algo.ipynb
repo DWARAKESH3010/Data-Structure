{
 "cells": [
  {
   "cell_type": "markdown",
   "id": "5bfd6d4c-6a26-42a9-9333-9d0823538ac4",
   "metadata": {},
   "source": [
    "# Bubble sort"
   ]
  },
  {
   "cell_type": "code",
   "execution_count": 24,
   "id": "d16a5e46-0ad8-481f-b133-8646a21009f6",
   "metadata": {},
   "outputs": [
    {
     "data": {
      "text/plain": [
       "[1, 2, 3, 5, 7, 8, 10, 75]"
      ]
     },
     "execution_count": 24,
     "metadata": {},
     "output_type": "execute_result"
    }
   ],
   "source": [
    "# for loop\n",
    "arr = [1,5,2,7,8,3,75,10]\n",
    "for i in range (0,len(arr)-1):\n",
    "    for j in range(len(arr)-1):\n",
    "        if(arr[j] > arr[j + 1]):\n",
    "            arr[j],arr[j+1] = arr[j+1],arr[j]\n",
    "            \n",
    "\n",
    "arr\n",
    "        "
   ]
  },
  {
   "cell_type": "markdown",
   "id": "62886989-af48-41e2-afbb-a4d6dbf8b2f7",
   "metadata": {},
   "source": [
    "# insect sort"
   ]
  },
  {
   "cell_type": "code",
   "execution_count": 26,
   "id": "d80c1969-bbe8-4b2a-afb1-c70328927b0c",
   "metadata": {},
   "outputs": [
    {
     "name": "stdout",
     "output_type": "stream",
     "text": [
      "[1, 5, 2, 7, 8, 3, 75, 10]\n"
     ]
    }
   ],
   "source": [
    "arr = [1,5,2,7,8,3,75,10]\n",
    "for i in range (len(arr)):\n",
    "    for j in range(len(arr)):\n",
    "        min = 0\n",
    "        if(arr[min] > j + 1):\n",
    "            min = j + 1\n",
    "print(arr)"
   ]
  },
  {
   "cell_type": "code",
   "execution_count": null,
   "id": "e1a7a320-d93b-4c81-ad24-8c8584f7dd93",
   "metadata": {},
   "outputs": [],
   "source": []
  }
 ],
 "metadata": {
  "kernelspec": {
   "display_name": "Python 3 (ipykernel)",
   "language": "python",
   "name": "python3"
  },
  "language_info": {
   "codemirror_mode": {
    "name": "ipython",
    "version": 3
   },
   "file_extension": ".py",
   "mimetype": "text/x-python",
   "name": "python",
   "nbconvert_exporter": "python",
   "pygments_lexer": "ipython3",
   "version": "3.11.7"
  }
 },
 "nbformat": 4,
 "nbformat_minor": 5
}
